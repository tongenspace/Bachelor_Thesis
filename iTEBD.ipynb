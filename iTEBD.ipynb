{
 "cells": [
  {
   "cell_type": "code",
   "execution_count": 1,
   "metadata": {},
   "outputs": [],
   "source": [
    "from quspin.basis import spin_basis_general # Hilbert space spin basis\n",
    "import numpy as np\n",
    "from Library import Pauli, Model_coefficients, i_trunc, Create_Hamiltonian\n",
    "from numpy import linalg as LA\n",
    "import matplotlib.pyplot as plt\n",
    "from quspin.basis import spin_basis_1d \n",
    "from scipy.linalg import expm\n",
    "import cProfile\n",
    "import pstats\n",
    "\n",
    "import numpy as np\n",
    "\n",
    "data_type=np.complex128\n",
    "S_z, S_x, S_y, S1 = Pauli()\n",
    "\n",
    "def Entropy(v):\n",
    "  return -np.sum(np.log(v)*v)\n",
    "\n",
    "def Create_Hamiltoniass(Model, S1, Interactions, Fields,d):\n",
    "    H = np.zeros((d,d,d,d)).astype(np.complex128)\n",
    "\n",
    "    for j in range(len(Model[0])):\n",
    "      H += np.einsum(\"ij,kl->ikjl\",Interactions[Model[0][j]]*S1[Model[0][j]],S1[Model[0][j]]) #two-site\n",
    "\n",
    "    for k in range(len(Model[1])):\n",
    "      H += np.einsum(\"ij,kl->ikjl\",Fields[Model[1][k]]*S1[Model[1][k]],np.diag(np.ones(2)))    #on-site\n",
    "      H += np.einsum(\"ij,kl->ikjl\",np.diag(np.ones(2)),Fields[Model[1][k]]*S1[Model[1][k]])\n",
    "    return H\n",
    "\n",
    "def Compute_Theta(lam_0,Gamma_0,lam_1,Gamma_1):\n",
    "    Theta=np.einsum(\"a,aib->aib\",lam_0,Gamma_0)\n",
    "    Theta=np.einsum(\"aib,b->aib\",Theta,lam_1)\n",
    "    Theta=np.einsum(\"aib,bjc->aijc\",Theta,Gamma_1)\n",
    "    Theta=np.einsum(\"aijc,c->aijc\",Theta,lam_0)\n",
    "\n",
    "    return Theta\n",
    "\n",
    "def apply_two_site_unitary(lam_0,Gamma_0,lam_1,Gamma_1,U,chi,d):\n",
    "    Theta = Compute_Theta(lam_0,Gamma_0,lam_1,Gamma_1)\n",
    "\n",
    "    Theta=np.einsum(\"ijkl,aijb->aklb\",U,Theta)\n",
    "    Theta=Theta.reshape(chi*d,chi*d)         \n",
    "\n",
    "    Sigma,lam_1,Ve=i_trunc(chi,Theta)\n",
    "\n",
    "    vi=np.divide(1.0, lam_0, out=np.zeros_like(lam_0), where=np.abs(lam_0)>=1E-14)\n",
    "    Gamma_1=np.einsum(\"aib,b->aib\",Ve,vi)                            \n",
    "    Gamma_0=np.einsum(\"a,aib->aib\",vi,Sigma) \n",
    "    \n",
    "    return Gamma_0,Gamma_1,lam_1\n",
    "\n",
    "def Exp_value_two_site(lam_0,Gamma_0,lam_1,Gamma_1,S_1,S_2):\n",
    "   Theta = Compute_Theta(lam_0,Gamma_0,lam_1,Gamma_1)\n",
    "   \n",
    "   Mz=np.einsum(\"ik,jm->ikjm\",S_1 ,S_2)\n",
    "   Mz=np.einsum(\"aijb,ikjm->akmb\",Theta,Mz)\n",
    "   Mz=np.einsum(\"akmb,akmb->\",Mz,np.conj(Theta))\n",
    "   return Mz\n",
    "\n",
    "def iTEBD():\n",
    "  for ty in range(N):\n",
    "   # Evolve the system imposing PBC\n",
    "   Gamma[0],Gamma[1],lam[1]=apply_two_site_unitary(lam[0],Gamma[0],lam[1],Gamma[1],U,chi,d)\n",
    "   Gamma[1],Gamma[0],lam[0]=apply_two_site_unitary(lam[1],Gamma[1],lam[0],Gamma[0],U,chi,d)\n",
    "   \n",
    "   # Calculate magnetization in the Z direction\n",
    "   Mz_iTEBD[ty+1] = Exp_value_two_site(lam[0],Gamma[0],lam[1],Gamma[1],S_z,S_z)\n",
    "   Entropy_iTEBD[ty+1]  = Entropy(lam[0])"
   ]
  },
  {
   "cell_type": "code",
   "execution_count": 2,
   "metadata": {},
   "outputs": [
    {
     "name": "stdout",
     "output_type": "stream",
     "text": [
      "         82 function calls in 0.002 seconds\n",
      "\n",
      "   Ordered by: internal time\n",
      "\n",
      "   ncalls  tottime  percall  cumtime  percall filename:lineno(function)\n",
      "        4    0.001    0.000    0.001    0.000 {built-in method numpy.core._multiarray_umath.c_einsum}\n",
      "        2    0.000    0.000    0.000    0.000 {built-in method builtins.compile}\n",
      "        4    0.000    0.000    0.001    0.000 {built-in method numpy.core._multiarray_umath.implement_array_function}\n",
      "        4    0.000    0.000    0.001    0.000 <__array_function__ internals>:2(einsum)\n",
      "        1    0.000    0.000    0.001    0.001 C:\\Users\\hgton\\AppData\\Local\\Temp/ipykernel_14952/1877702929.py:30(Compute_Theta)\n",
      "        4    0.000    0.000    0.001    0.000 c:\\Users\\hgton\\anaconda3\\lib\\site-packages\\numpy\\core\\einsumfunc.py:997(einsum)\n",
      "        2    0.000    0.000    0.001    0.001 c:\\Users\\hgton\\anaconda3\\lib\\site-packages\\IPython\\core\\interactiveshell.py:3403(run_code)\n",
      "       20    0.000    0.000    0.000    0.000 c:\\Users\\hgton\\anaconda3\\lib\\site-packages\\numpy\\core\\einsumfunc.py:989(_einsum_dispatcher)\n",
      "        1    0.000    0.000    0.001    0.001 C:\\Users\\hgton\\AppData\\Local\\Temp/ipykernel_14952/1870931530.py:45(<module>)\n",
      "        2    0.000    0.000    0.000    0.000 c:\\Users\\hgton\\anaconda3\\lib\\contextlib.py:114(__enter__)\n",
      "        1    0.000    0.000    0.000    0.000 C:\\Users\\hgton\\AppData\\Local\\Temp/ipykernel_14952/1870931530.py:47(<module>)\n",
      "        2    0.000    0.000    0.000    0.000 c:\\Users\\hgton\\anaconda3\\lib\\codeop.py:142(__call__)\n",
      "        2    0.000    0.000    0.000    0.000 c:\\Users\\hgton\\anaconda3\\lib\\contextlib.py:86(__init__)\n",
      "        2    0.000    0.000    0.000    0.000 c:\\Users\\hgton\\anaconda3\\lib\\contextlib.py:123(__exit__)\n",
      "        2    0.000    0.000    0.001    0.001 {built-in method builtins.exec}\n",
      "        4    0.000    0.000    0.000    0.000 c:\\Users\\hgton\\anaconda3\\lib\\site-packages\\IPython\\core\\compilerop.py:166(extra_flags)\n",
      "        2    0.000    0.000    0.000    0.000 c:\\Users\\hgton\\anaconda3\\lib\\site-packages\\IPython\\core\\hooks.py:103(__call__)\n",
      "        2    0.000    0.000    0.000    0.000 c:\\Users\\hgton\\anaconda3\\lib\\contextlib.py:261(helper)\n",
      "        2    0.000    0.000    0.000    0.000 c:\\Users\\hgton\\anaconda3\\lib\\site-packages\\IPython\\core\\interactiveshell.py:3341(compare)\n",
      "        4    0.000    0.000    0.000    0.000 {built-in method builtins.next}\n",
      "        2    0.000    0.000    0.000    0.000 c:\\Users\\hgton\\anaconda3\\lib\\site-packages\\traitlets\\traitlets.py:535(get)\n",
      "        2    0.000    0.000    0.000    0.000 c:\\Users\\hgton\\anaconda3\\lib\\site-packages\\traitlets\\traitlets.py:566(__get__)\n",
      "        4    0.000    0.000    0.000    0.000 {built-in method builtins.getattr}\n",
      "        2    0.000    0.000    0.000    0.000 c:\\Users\\hgton\\anaconda3\\lib\\site-packages\\IPython\\utils\\ipstruct.py:125(__getattr__)\n",
      "        2    0.000    0.000    0.000    0.000 c:\\Users\\hgton\\anaconda3\\lib\\site-packages\\IPython\\core\\interactiveshell.py:1278(user_global_ns)\n",
      "        1    0.000    0.000    0.000    0.000 {method 'disable' of '_lsprof.Profiler' objects}\n",
      "        2    0.000    0.000    0.000    0.000 c:\\Users\\hgton\\anaconda3\\lib\\site-packages\\IPython\\core\\hooks.py:168(pre_run_code_hook)\n",
      "\n",
      "\n"
     ]
    },
    {
     "name": "stderr",
     "output_type": "stream",
     "text": [
      "C:\\Users\\hgton\\AppData\\Local\\Temp/ipykernel_14952/1877702929.py:17: RuntimeWarning: divide by zero encountered in log\n",
      "  return -np.sum(np.log(v)*v)\n",
      "C:\\Users\\hgton\\AppData\\Local\\Temp/ipykernel_14952/1877702929.py:17: RuntimeWarning: invalid value encountered in multiply\n",
      "  return -np.sum(np.log(v)*v)\n"
     ]
    },
    {
     "data": {
      "image/png": "[encoded data removed]",
      "text/plain": [
       "<Figure size 432x288 with 1 Axes>"
      ]
     },
     "metadata": {
      "needs_background": "light"
     },
     "output_type": "display_data"
    }
   ],
   "source": [
    "T = 2.5*2    # total time\n",
    "N = 75*6      # Number of updates\n",
    "dt = T/N       # time step\n",
    "\n",
    "chi = 20              # Bond dimension\n",
    "d = 2                                  # Dimension of physical index\n",
    "h_x, h_y, h_z = np.sqrt(3) , np.log(2), 0.  # Field in the different directions\n",
    "J_xx, J_yy, J_zz = 0.2, 0., 0.29  # Strength of spin interactions\n",
    "\n",
    "Model = [[\"\"],[\"x\",\"y\"]]     # The first part of the model gives us the spin interaction and the second one the fields\n",
    "Interactions, Fields = Model_coefficients(J_xx,J_yy,J_zz,h_x,h_y,h_z)\n",
    "\n",
    "# Initial antiferromagnetic product state\n",
    "Gamma_0 = np.zeros((chi,d,chi)).astype(complex)\n",
    "Gamma_0[0,0,0]=1.+0j\n",
    "Gamma_0/=LA.norm(Gamma_0)\n",
    "\n",
    "Gamma_1=np.zeros((chi,d,chi)).astype(complex)\n",
    "Gamma_1[0,1,0]=1.+0j\n",
    "Gamma_1/=LA.norm(Gamma_1)\n",
    "\n",
    "Gamma=[Gamma_0,Gamma_1]\n",
    "\n",
    "lama=np.zeros(chi)\n",
    "lama[0]=1.\n",
    "lam=[lama,lama]\n",
    "\n",
    "# Hamiltonian\n",
    "H  = Create_Hamiltonian(Model,S1,Interactions,Fields,d)\n",
    "\n",
    "# Time evolution operator\n",
    "U=expm(-1j*dt*H.reshape(d**2,-1)).reshape(d,d,d,d)\n",
    "# 2 site wave funciotn\n",
    "\n",
    "Mz_iTEBD = np.zeros(N+1).astype(data_type)\n",
    "Mz_iTEBD[0] = Exp_value_two_site(lam[0],Gamma[0],lam[1],Gamma[1],S_z,S_z)\n",
    "\n",
    "Entropy_iTEBD = np.zeros(N+1).astype(data_type)\n",
    "Entropy_iTEBD[0] = Entropy(lam[0])\n",
    "\n",
    "# Profile and Execute function\n",
    "profiler = cProfile.Profile()\n",
    "profiler.enable()\n",
    "\n",
    "Compute_Theta(lam[0],Gamma[0],lam[1],Gamma[1])              # Main code\n",
    "\n",
    "profiler.disable()\n",
    "stats = pstats.Stats(profiler).sort_stats('tottime')\n",
    "stats.print_stats()\n",
    "\n",
    "#Plotting \n",
    "plt.plot(Mz_iTEBD.real,label=\" Z magnetization\")\n",
    "plt.legend()\n",
    "plt.xlabel(\"Number of time steps\")\n",
    "plt.ylabel(\"Expectation value\")\n",
    "plt.show()"
   ]
  },
  {
   "cell_type": "code",
   "execution_count": 22,
   "metadata": {},
   "outputs": [
    {
     "data": {
      "image/png": "[encoded data removed]",
      "text/plain": [
       "<Figure size 432x288 with 1 Axes>"
      ]
     },
     "metadata": {
      "needs_background": "light"
     },
     "output_type": "display_data"
    },
    {
     "name": "stdout",
     "output_type": "stream",
     "text": [
      "6.207868312534091\n"
     ]
    }
   ],
   "source": [
    "plt.plot(Entropy_iTEBD.real,label=\" Entropy\")\n",
    "plt.legend()\n",
    "plt.xlabel(\"Number of time steps\")\n",
    "plt.ylabel(\"Entropy\")\n",
    "plt.show()\n",
    "print(Entropy(lam[0]))"
   ]
  },
  {
   "cell_type": "code",
   "execution_count": null,
   "metadata": {},
   "outputs": [],
   "source": []
  }
 ],
 "metadata": {
  "interpreter": {
   "hash": "cc14ccd3e667fcadedd63288f9d887aa62f59ed1c58cf76862d7d0abc3120edd"
  },
  "kernelspec": {
   "display_name": "Python 3.9.7 ('base')",
   "language": "python",
   "name": "python3"
  },
  "language_info": {
   "codemirror_mode": {
    "name": "ipython",
    "version": 3
   },
   "file_extension": ".py",
   "mimetype": "text/x-python",
   "name": "python",
   "nbconvert_exporter": "python",
   "pygments_lexer": "ipython3",
   "version": "3.9.7"
  },
  "orig_nbformat": 4
 },
 "nbformat": 4,
 "nbformat_minor": 2
}
